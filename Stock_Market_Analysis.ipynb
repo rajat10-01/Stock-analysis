{
  "nbformat": 4,
  "nbformat_minor": 0,
  "metadata": {
    "colab": {
      "name": "Stock Market Analysis.ipynb",
      "provenance": [],
      "authorship_tag": "ABX9TyPz6Kc0zSLIu3r/L0RTtoxZ",
      "include_colab_link": true
    },
    "kernelspec": {
      "name": "python3",
      "display_name": "Python 3"
    },
    "accelerator": "GPU"
  },
  "cells": [
    {
      "cell_type": "markdown",
      "metadata": {
        "id": "view-in-github",
        "colab_type": "text"
      },
      "source": [
        "<a href=\"https://colab.research.google.com/github/rajat10-01/Stock-analysis/blob/master/Stock_Market_Analysis.ipynb\" target=\"_parent\"><img src=\"https://colab.research.google.com/assets/colab-badge.svg\" alt=\"Open In Colab\"/></a>"
      ]
    },
    {
      "cell_type": "code",
      "metadata": {
        "id": "obPLX2csGCYD",
        "colab_type": "code",
        "outputId": "f1348995-53e4-47ad-f115-a24fa8315906",
        "colab": {
          "base_uri": "https://localhost:8080/",
          "height": 357
        }
      },
      "source": [
        "pip install yfinance"
      ],
      "execution_count": 0,
      "outputs": [
        {
          "output_type": "stream",
          "text": [
            "Collecting yfinance\n",
            "  Downloading https://files.pythonhosted.org/packages/c2/31/8b374a12b90def92a4e27d0fc595fc43635f395984e36a075244d98bd265/yfinance-0.1.54.tar.gz\n",
            "Requirement already satisfied: pandas>=0.24 in /usr/local/lib/python3.6/dist-packages (from yfinance) (1.0.3)\n",
            "Requirement already satisfied: numpy>=1.15 in /usr/local/lib/python3.6/dist-packages (from yfinance) (1.18.2)\n",
            "Requirement already satisfied: requests>=2.20 in /usr/local/lib/python3.6/dist-packages (from yfinance) (2.21.0)\n",
            "Requirement already satisfied: multitasking>=0.0.7 in /usr/local/lib/python3.6/dist-packages (from yfinance) (0.0.9)\n",
            "Requirement already satisfied: pytz>=2017.2 in /usr/local/lib/python3.6/dist-packages (from pandas>=0.24->yfinance) (2018.9)\n",
            "Requirement already satisfied: python-dateutil>=2.6.1 in /usr/local/lib/python3.6/dist-packages (from pandas>=0.24->yfinance) (2.8.1)\n",
            "Requirement already satisfied: urllib3<1.25,>=1.21.1 in /usr/local/lib/python3.6/dist-packages (from requests>=2.20->yfinance) (1.24.3)\n",
            "Requirement already satisfied: idna<2.9,>=2.5 in /usr/local/lib/python3.6/dist-packages (from requests>=2.20->yfinance) (2.8)\n",
            "Requirement already satisfied: certifi>=2017.4.17 in /usr/local/lib/python3.6/dist-packages (from requests>=2.20->yfinance) (2020.4.5.1)\n",
            "Requirement already satisfied: chardet<3.1.0,>=3.0.2 in /usr/local/lib/python3.6/dist-packages (from requests>=2.20->yfinance) (3.0.4)\n",
            "Requirement already satisfied: six>=1.5 in /usr/local/lib/python3.6/dist-packages (from python-dateutil>=2.6.1->pandas>=0.24->yfinance) (1.12.0)\n",
            "Building wheels for collected packages: yfinance\n",
            "  Building wheel for yfinance (setup.py) ... \u001b[?25l\u001b[?25hdone\n",
            "  Created wheel for yfinance: filename=yfinance-0.1.54-py2.py3-none-any.whl size=22409 sha256=d74be822a976372a69b1ae83012b19ed1c2ffb851d5e5fe83d23a8613de28759\n",
            "  Stored in directory: /root/.cache/pip/wheels/f9/e3/5b/ec24dd2984b12d61e0abf26289746c2436a0e7844f26f2515c\n",
            "Successfully built yfinance\n",
            "Installing collected packages: yfinance\n",
            "Successfully installed yfinance-0.1.54\n"
          ],
          "name": "stdout"
        }
      ]
    },
    {
      "cell_type": "code",
      "metadata": {
        "id": "I6ySOiaynOmV",
        "colab_type": "code",
        "outputId": "75d552c1-de25-40f3-c35f-27edcf09ccfb",
        "colab": {
          "base_uri": "https://localhost:8080/",
          "height": 71
        }
      },
      "source": [
        "from pandas_datareader import data\n",
        "from datetime import date\n",
        "import yfinance as yf\n",
        "yf.pdr_override()\n",
        "import pandas as pd\n",
        "import numpy as np\n",
        "import matplotlib.pyplot as plt"
      ],
      "execution_count": 0,
      "outputs": [
        {
          "output_type": "stream",
          "text": [
            "/usr/local/lib/python3.6/dist-packages/pandas_datareader/compat/__init__.py:7: FutureWarning: pandas.util.testing is deprecated. Use the functions in the public API at pandas.testing instead.\n",
            "  from pandas.util.testing import assert_frame_equal\n"
          ],
          "name": "stderr"
        }
      ]
    },
    {
      "cell_type": "code",
      "metadata": {
        "id": "ZD2PGISqn0wJ",
        "colab_type": "code",
        "colab": {}
      },
      "source": [
        "today = date.today()"
      ],
      "execution_count": 0,
      "outputs": []
    },
    {
      "cell_type": "code",
      "metadata": {
        "id": "Md4_xjJgoKKr",
        "colab_type": "code",
        "colab": {}
      },
      "source": [
        "start_date = \"2014-04-20\"\n",
        "end_date   = today"
      ],
      "execution_count": 0,
      "outputs": []
    },
    {
      "cell_type": "code",
      "metadata": {
        "id": "UDo05onSqVny",
        "colab_type": "code",
        "outputId": "59a0c0fd-358e-4d6d-f5aa-59d89007b220",
        "colab": {
          "base_uri": "https://localhost:8080/",
          "height": 34
        }
      },
      "source": [
        "df = yf.download(\"HDFCBANK.BO\", start=start_date, end = end_date)\n",
        "df = df.dropna(axis=0, how='any', thresh=None, subset=None, inplace=False)"
      ],
      "execution_count": 0,
      "outputs": [
        {
          "output_type": "stream",
          "text": [
            "\r[*********************100%***********************]  1 of 1 completed\n"
          ],
          "name": "stdout"
        }
      ]
    },
    {
      "cell_type": "code",
      "metadata": {
        "id": "gVKeBQ4kr81b",
        "colab_type": "code",
        "outputId": "6decf382-4760-4838-df96-6ba0e0cc8995",
        "colab": {
          "base_uri": "https://localhost:8080/",
          "height": 235
        }
      },
      "source": [
        "df.head()"
      ],
      "execution_count": 0,
      "outputs": [
        {
          "output_type": "execute_result",
          "data": {
            "text/html": [
              "<div>\n",
              "<style scoped>\n",
              "    .dataframe tbody tr th:only-of-type {\n",
              "        vertical-align: middle;\n",
              "    }\n",
              "\n",
              "    .dataframe tbody tr th {\n",
              "        vertical-align: top;\n",
              "    }\n",
              "\n",
              "    .dataframe thead th {\n",
              "        text-align: right;\n",
              "    }\n",
              "</style>\n",
              "<table border=\"1\" class=\"dataframe\">\n",
              "  <thead>\n",
              "    <tr style=\"text-align: right;\">\n",
              "      <th></th>\n",
              "      <th>Open</th>\n",
              "      <th>High</th>\n",
              "      <th>Low</th>\n",
              "      <th>Close</th>\n",
              "      <th>Adj Close</th>\n",
              "      <th>Volume</th>\n",
              "    </tr>\n",
              "    <tr>\n",
              "      <th>Date</th>\n",
              "      <th></th>\n",
              "      <th></th>\n",
              "      <th></th>\n",
              "      <th></th>\n",
              "      <th></th>\n",
              "      <th></th>\n",
              "    </tr>\n",
              "  </thead>\n",
              "  <tbody>\n",
              "    <tr>\n",
              "      <th>2014-04-21</th>\n",
              "      <td>360.549988</td>\n",
              "      <td>363.524994</td>\n",
              "      <td>356.524994</td>\n",
              "      <td>358.299988</td>\n",
              "      <td>329.808380</td>\n",
              "      <td>212332</td>\n",
              "    </tr>\n",
              "    <tr>\n",
              "      <th>2014-04-22</th>\n",
              "      <td>360.174988</td>\n",
              "      <td>364.325012</td>\n",
              "      <td>359.250000</td>\n",
              "      <td>363.174988</td>\n",
              "      <td>334.295715</td>\n",
              "      <td>757510</td>\n",
              "    </tr>\n",
              "    <tr>\n",
              "      <th>2014-04-23</th>\n",
              "      <td>363.250000</td>\n",
              "      <td>369.524994</td>\n",
              "      <td>361.750000</td>\n",
              "      <td>367.125000</td>\n",
              "      <td>337.931580</td>\n",
              "      <td>476794</td>\n",
              "    </tr>\n",
              "    <tr>\n",
              "      <th>2014-04-24</th>\n",
              "      <td>367.125000</td>\n",
              "      <td>367.125000</td>\n",
              "      <td>367.125000</td>\n",
              "      <td>367.125000</td>\n",
              "      <td>337.931580</td>\n",
              "      <td>0</td>\n",
              "    </tr>\n",
              "    <tr>\n",
              "      <th>2014-04-25</th>\n",
              "      <td>366.500000</td>\n",
              "      <td>368.750000</td>\n",
              "      <td>362.500000</td>\n",
              "      <td>363.125000</td>\n",
              "      <td>334.249695</td>\n",
              "      <td>395336</td>\n",
              "    </tr>\n",
              "  </tbody>\n",
              "</table>\n",
              "</div>"
            ],
            "text/plain": [
              "                  Open        High         Low       Close   Adj Close  Volume\n",
              "Date                                                                          \n",
              "2014-04-21  360.549988  363.524994  356.524994  358.299988  329.808380  212332\n",
              "2014-04-22  360.174988  364.325012  359.250000  363.174988  334.295715  757510\n",
              "2014-04-23  363.250000  369.524994  361.750000  367.125000  337.931580  476794\n",
              "2014-04-24  367.125000  367.125000  367.125000  367.125000  337.931580       0\n",
              "2014-04-25  366.500000  368.750000  362.500000  363.125000  334.249695  395336"
            ]
          },
          "metadata": {
            "tags": []
          },
          "execution_count": 6
        }
      ]
    },
    {
      "cell_type": "code",
      "metadata": {
        "id": "kcQXsOiDsAOC",
        "colab_type": "code",
        "outputId": "16d8cdb0-dd5c-4263-ab0f-6f8b5efd74d8",
        "colab": {
          "base_uri": "https://localhost:8080/",
          "height": 297
        }
      },
      "source": [
        "df.describe()"
      ],
      "execution_count": 0,
      "outputs": [
        {
          "output_type": "execute_result",
          "data": {
            "text/html": [
              "<div>\n",
              "<style scoped>\n",
              "    .dataframe tbody tr th:only-of-type {\n",
              "        vertical-align: middle;\n",
              "    }\n",
              "\n",
              "    .dataframe tbody tr th {\n",
              "        vertical-align: top;\n",
              "    }\n",
              "\n",
              "    .dataframe thead th {\n",
              "        text-align: right;\n",
              "    }\n",
              "</style>\n",
              "<table border=\"1\" class=\"dataframe\">\n",
              "  <thead>\n",
              "    <tr style=\"text-align: right;\">\n",
              "      <th></th>\n",
              "      <th>Open</th>\n",
              "      <th>High</th>\n",
              "      <th>Low</th>\n",
              "      <th>Close</th>\n",
              "      <th>Adj Close</th>\n",
              "      <th>Volume</th>\n",
              "    </tr>\n",
              "  </thead>\n",
              "  <tbody>\n",
              "    <tr>\n",
              "      <th>count</th>\n",
              "      <td>1474.000000</td>\n",
              "      <td>1474.000000</td>\n",
              "      <td>1474.000000</td>\n",
              "      <td>1474.000000</td>\n",
              "      <td>1474.000000</td>\n",
              "      <td>1.474000e+03</td>\n",
              "    </tr>\n",
              "    <tr>\n",
              "      <th>mean</th>\n",
              "      <td>786.044095</td>\n",
              "      <td>791.869327</td>\n",
              "      <td>778.386167</td>\n",
              "      <td>785.094633</td>\n",
              "      <td>766.240073</td>\n",
              "      <td>3.292679e+05</td>\n",
              "    </tr>\n",
              "    <tr>\n",
              "      <th>std</th>\n",
              "      <td>275.392459</td>\n",
              "      <td>277.066986</td>\n",
              "      <td>272.591813</td>\n",
              "      <td>274.634405</td>\n",
              "      <td>283.820768</td>\n",
              "      <td>6.238164e+05</td>\n",
              "    </tr>\n",
              "    <tr>\n",
              "      <th>min</th>\n",
              "      <td>357.500000</td>\n",
              "      <td>361.424988</td>\n",
              "      <td>356.000000</td>\n",
              "      <td>357.950012</td>\n",
              "      <td>329.486145</td>\n",
              "      <td>0.000000e+00</td>\n",
              "    </tr>\n",
              "    <tr>\n",
              "      <th>25%</th>\n",
              "      <td>532.100006</td>\n",
              "      <td>536.012497</td>\n",
              "      <td>526.656250</td>\n",
              "      <td>531.306229</td>\n",
              "      <td>502.602829</td>\n",
              "      <td>1.093905e+05</td>\n",
              "    </tr>\n",
              "    <tr>\n",
              "      <th>50%</th>\n",
              "      <td>733.700012</td>\n",
              "      <td>744.500000</td>\n",
              "      <td>726.274994</td>\n",
              "      <td>740.125000</td>\n",
              "      <td>715.030853</td>\n",
              "      <td>1.743560e+05</td>\n",
              "    </tr>\n",
              "    <tr>\n",
              "      <th>75%</th>\n",
              "      <td>1031.875000</td>\n",
              "      <td>1039.209961</td>\n",
              "      <td>1020.327484</td>\n",
              "      <td>1029.364990</td>\n",
              "      <td>1020.916367</td>\n",
              "      <td>3.277690e+05</td>\n",
              "    </tr>\n",
              "    <tr>\n",
              "      <th>max</th>\n",
              "      <td>1302.750000</td>\n",
              "      <td>1304.099976</td>\n",
              "      <td>1289.349976</td>\n",
              "      <td>1302.300049</td>\n",
              "      <td>1302.300049</td>\n",
              "      <td>1.104901e+07</td>\n",
              "    </tr>\n",
              "  </tbody>\n",
              "</table>\n",
              "</div>"
            ],
            "text/plain": [
              "              Open         High  ...    Adj Close        Volume\n",
              "count  1474.000000  1474.000000  ...  1474.000000  1.474000e+03\n",
              "mean    786.044095   791.869327  ...   766.240073  3.292679e+05\n",
              "std     275.392459   277.066986  ...   283.820768  6.238164e+05\n",
              "min     357.500000   361.424988  ...   329.486145  0.000000e+00\n",
              "25%     532.100006   536.012497  ...   502.602829  1.093905e+05\n",
              "50%     733.700012   744.500000  ...   715.030853  1.743560e+05\n",
              "75%    1031.875000  1039.209961  ...  1020.916367  3.277690e+05\n",
              "max    1302.750000  1304.099976  ...  1302.300049  1.104901e+07\n",
              "\n",
              "[8 rows x 6 columns]"
            ]
          },
          "metadata": {
            "tags": []
          },
          "execution_count": 7
        }
      ]
    },
    {
      "cell_type": "code",
      "metadata": {
        "id": "DzxEiSIZtpli",
        "colab_type": "code",
        "outputId": "6cf38ce4-4b48-48c9-a15a-45b82ec0885b",
        "colab": {
          "base_uri": "https://localhost:8080/",
          "height": 238
        }
      },
      "source": [
        "df.info()"
      ],
      "execution_count": 0,
      "outputs": [
        {
          "output_type": "stream",
          "text": [
            "<class 'pandas.core.frame.DataFrame'>\n",
            "DatetimeIndex: 1474 entries, 2014-04-21 to 2020-04-22\n",
            "Data columns (total 6 columns):\n",
            " #   Column     Non-Null Count  Dtype  \n",
            "---  ------     --------------  -----  \n",
            " 0   Open       1474 non-null   float64\n",
            " 1   High       1474 non-null   float64\n",
            " 2   Low        1474 non-null   float64\n",
            " 3   Close      1474 non-null   float64\n",
            " 4   Adj Close  1474 non-null   float64\n",
            " 5   Volume     1474 non-null   int64  \n",
            "dtypes: float64(5), int64(1)\n",
            "memory usage: 80.6 KB\n"
          ],
          "name": "stdout"
        }
      ]
    },
    {
      "cell_type": "code",
      "metadata": {
        "id": "D7E34UxktvZJ",
        "colab_type": "code",
        "outputId": "2f33bd5e-94ab-4f2b-c02f-156c49ef3db7",
        "colab": {
          "base_uri": "https://localhost:8080/",
          "height": 235
        }
      },
      "source": [
        "df.tail()"
      ],
      "execution_count": 0,
      "outputs": [
        {
          "output_type": "execute_result",
          "data": {
            "text/html": [
              "<div>\n",
              "<style scoped>\n",
              "    .dataframe tbody tr th:only-of-type {\n",
              "        vertical-align: middle;\n",
              "    }\n",
              "\n",
              "    .dataframe tbody tr th {\n",
              "        vertical-align: top;\n",
              "    }\n",
              "\n",
              "    .dataframe thead th {\n",
              "        text-align: right;\n",
              "    }\n",
              "</style>\n",
              "<table border=\"1\" class=\"dataframe\">\n",
              "  <thead>\n",
              "    <tr style=\"text-align: right;\">\n",
              "      <th></th>\n",
              "      <th>Open</th>\n",
              "      <th>High</th>\n",
              "      <th>Low</th>\n",
              "      <th>Close</th>\n",
              "      <th>Adj Close</th>\n",
              "      <th>Volume</th>\n",
              "    </tr>\n",
              "    <tr>\n",
              "      <th>Date</th>\n",
              "      <th></th>\n",
              "      <th></th>\n",
              "      <th></th>\n",
              "      <th></th>\n",
              "      <th></th>\n",
              "      <th></th>\n",
              "    </tr>\n",
              "  </thead>\n",
              "  <tbody>\n",
              "    <tr>\n",
              "      <th>2020-04-16</th>\n",
              "      <td>863.000000</td>\n",
              "      <td>889.599976</td>\n",
              "      <td>856.099976</td>\n",
              "      <td>881.049988</td>\n",
              "      <td>881.049988</td>\n",
              "      <td>806676</td>\n",
              "    </tr>\n",
              "    <tr>\n",
              "      <th>2020-04-17</th>\n",
              "      <td>912.849976</td>\n",
              "      <td>920.849976</td>\n",
              "      <td>887.900024</td>\n",
              "      <td>910.400024</td>\n",
              "      <td>910.400024</td>\n",
              "      <td>2840770</td>\n",
              "    </tr>\n",
              "    <tr>\n",
              "      <th>2020-04-20</th>\n",
              "      <td>952.250000</td>\n",
              "      <td>960.849976</td>\n",
              "      <td>936.099976</td>\n",
              "      <td>946.000000</td>\n",
              "      <td>946.000000</td>\n",
              "      <td>2003508</td>\n",
              "    </tr>\n",
              "    <tr>\n",
              "      <th>2020-04-21</th>\n",
              "      <td>928.000000</td>\n",
              "      <td>934.349976</td>\n",
              "      <td>908.200012</td>\n",
              "      <td>920.750000</td>\n",
              "      <td>920.750000</td>\n",
              "      <td>613947</td>\n",
              "    </tr>\n",
              "    <tr>\n",
              "      <th>2020-04-22</th>\n",
              "      <td>918.000000</td>\n",
              "      <td>932.650024</td>\n",
              "      <td>907.299988</td>\n",
              "      <td>928.400024</td>\n",
              "      <td>928.400024</td>\n",
              "      <td>429763</td>\n",
              "    </tr>\n",
              "  </tbody>\n",
              "</table>\n",
              "</div>"
            ],
            "text/plain": [
              "                  Open        High         Low       Close   Adj Close   Volume\n",
              "Date                                                                           \n",
              "2020-04-16  863.000000  889.599976  856.099976  881.049988  881.049988   806676\n",
              "2020-04-17  912.849976  920.849976  887.900024  910.400024  910.400024  2840770\n",
              "2020-04-20  952.250000  960.849976  936.099976  946.000000  946.000000  2003508\n",
              "2020-04-21  928.000000  934.349976  908.200012  920.750000  920.750000   613947\n",
              "2020-04-22  918.000000  932.650024  907.299988  928.400024  928.400024   429763"
            ]
          },
          "metadata": {
            "tags": []
          },
          "execution_count": 9
        }
      ]
    },
    {
      "cell_type": "code",
      "metadata": {
        "id": "7HRPoSbOt3RJ",
        "colab_type": "code",
        "colab": {}
      },
      "source": [
        "close = df['Close']\n",
        "all_weekdays = pd.date_range(start=start_date, end=end_date, freq='B')\n",
        "close = close.reindex(all_weekdays)\n",
        "close = close.fillna(method='ffill')"
      ],
      "execution_count": 0,
      "outputs": []
    },
    {
      "cell_type": "code",
      "metadata": {
        "id": "C43HYYZPxD8H",
        "colab_type": "code",
        "outputId": "b02aa7a0-642f-47ac-8f1c-1a8e61f7bb5e",
        "colab": {
          "base_uri": "https://localhost:8080/",
          "height": 153
        }
      },
      "source": [
        "print(all_weekdays)"
      ],
      "execution_count": 0,
      "outputs": [
        {
          "output_type": "stream",
          "text": [
            "DatetimeIndex(['2014-04-21', '2014-04-22', '2014-04-23', '2014-04-24',\n",
            "               '2014-04-25', '2014-04-28', '2014-04-29', '2014-04-30',\n",
            "               '2014-05-01', '2014-05-02',\n",
            "               ...\n",
            "               '2020-04-10', '2020-04-13', '2020-04-14', '2020-04-15',\n",
            "               '2020-04-16', '2020-04-17', '2020-04-20', '2020-04-21',\n",
            "               '2020-04-22', '2020-04-23'],\n",
            "              dtype='datetime64[ns]', length=1569, freq='B')\n"
          ],
          "name": "stdout"
        }
      ]
    },
    {
      "cell_type": "code",
      "metadata": {
        "id": "pvGHD8-oxNwv",
        "colab_type": "code",
        "outputId": "03d9d467-a05e-4914-92dd-bd9c4d612d0a",
        "colab": {
          "base_uri": "https://localhost:8080/",
          "height": 204
        }
      },
      "source": [
        "close.head(10)"
      ],
      "execution_count": 0,
      "outputs": [
        {
          "output_type": "execute_result",
          "data": {
            "text/plain": [
              "2014-04-21    358.299988\n",
              "2014-04-22    363.174988\n",
              "2014-04-23    367.125000\n",
              "2014-04-24    367.125000\n",
              "2014-04-25    363.125000\n",
              "2014-04-28    362.649994\n",
              "2014-04-29    357.950012\n",
              "2014-04-30    359.125000\n",
              "2014-05-01    359.125000\n",
              "2014-05-02    358.424988\n",
              "Freq: B, Name: Close, dtype: float64"
            ]
          },
          "metadata": {
            "tags": []
          },
          "execution_count": 12
        }
      ]
    },
    {
      "cell_type": "code",
      "metadata": {
        "id": "zOSMdy-AxZ--",
        "colab_type": "code",
        "outputId": "a225ad80-9533-4bc0-bbae-75bfdb167456",
        "colab": {
          "base_uri": "https://localhost:8080/",
          "height": 170
        }
      },
      "source": [
        "close.describe()"
      ],
      "execution_count": 0,
      "outputs": [
        {
          "output_type": "execute_result",
          "data": {
            "text/plain": [
              "count    1569.000000\n",
              "mean      785.471850\n",
              "std       274.613563\n",
              "min       357.950012\n",
              "25%       530.900024\n",
              "50%       748.375000\n",
              "75%      1029.469971\n",
              "max      1302.300049\n",
              "Name: Close, dtype: float64"
            ]
          },
          "metadata": {
            "tags": []
          },
          "execution_count": 13
        }
      ]
    },
    {
      "cell_type": "code",
      "metadata": {
        "id": "9GZkJkKWxhvg",
        "colab_type": "code",
        "outputId": "77728781-ce6c-4d60-b89a-466461ec89c6",
        "colab": {
          "base_uri": "https://localhost:8080/",
          "height": 568
        }
      },
      "source": [
        "# Calculate the 20 and 100 days moving averages of the closing prices\n",
        "short_rolling = close.rolling(window=20).mean()\n",
        "long_rolling  = close.rolling(window=100).mean()\n",
        "\n",
        "fig, ax = plt.subplots(figsize=(16,9))\n",
        "\n",
        "ax.plot(close.index, close, label='Stock')\n",
        "ax.plot(short_rolling.index, short_rolling, label='20 days rolling')\n",
        "ax.plot(long_rolling.index, long_rolling, label='100 days rolling')\n",
        "\n",
        "ax.set_xlabel('Year')\n",
        "ax.set_ylabel('Adjusted closing price (INR)')\n",
        "ax.legend()"
      ],
      "execution_count": 0,
      "outputs": [
        {
          "output_type": "execute_result",
          "data": {
            "text/plain": [
              "<matplotlib.legend.Legend at 0x7f2a05a15470>"
            ]
          },
          "metadata": {
            "tags": []
          },
          "execution_count": 14
        },
        {
          "output_type": "display_data",
          "data": {
            "image/png": "[encoded data removed]",
            "text/plain": [
              "<Figure size 1152x648 with 1 Axes>"
            ]
          },
          "metadata": {
            "tags": [],
            "needs_background": "light"
          }
        }
      ]
    },
    {
      "cell_type": "code",
      "metadata": {
        "id": "v2W68pDuyG7w",
        "colab_type": "code",
        "outputId": "43f6c0d0-5cbf-4dce-a19c-ab01f5d154aa",
        "colab": {
          "base_uri": "https://localhost:8080/",
          "height": 119
        }
      },
      "source": [
        "short_rolling.tail()"
      ],
      "execution_count": 0,
      "outputs": [
        {
          "output_type": "execute_result",
          "data": {
            "text/plain": [
              "2020-04-17    863.552502\n",
              "2020-04-20    872.327502\n",
              "2020-04-21    880.092502\n",
              "2020-04-22    883.735004\n",
              "2020-04-23    884.485004\n",
              "Freq: B, Name: Close, dtype: float64"
            ]
          },
          "metadata": {
            "tags": []
          },
          "execution_count": 15
        }
      ]
    },
    {
      "cell_type": "code",
      "metadata": {
        "id": "KbVk8UWWF6Nm",
        "colab_type": "code",
        "outputId": "2eb51671-a3b3-431f-8bfc-7c5bc5b7a187",
        "colab": {
          "base_uri": "https://localhost:8080/",
          "height": 119
        }
      },
      "source": [
        "# Relative returns\n",
        "returns = close.pct_change(1)\n",
        "returns.head()"
      ],
      "execution_count": 0,
      "outputs": [
        {
          "output_type": "execute_result",
          "data": {
            "text/plain": [
              "2014-04-21         NaN\n",
              "2014-04-22    0.013606\n",
              "2014-04-23    0.010876\n",
              "2014-04-24    0.000000\n",
              "2014-04-25   -0.010895\n",
              "Freq: B, Name: Close, dtype: float64"
            ]
          },
          "metadata": {
            "tags": []
          },
          "execution_count": 16
        }
      ]
    },
    {
      "cell_type": "code",
      "metadata": {
        "id": "a0-zDRU7IbWG",
        "colab_type": "code",
        "outputId": "b8a29658-3af8-422c-dbbd-fdac787d9509",
        "colab": {
          "base_uri": "https://localhost:8080/",
          "height": 119
        }
      },
      "source": [
        "# Log returns - First the logarithm of the prices is taken and the the difference of consecutive (log) observations\n",
        "log_returns = np.log(close).diff()\n",
        "log_returns.head()"
      ],
      "execution_count": 0,
      "outputs": [
        {
          "output_type": "execute_result",
          "data": {
            "text/plain": [
              "2014-04-21         NaN\n",
              "2014-04-22    0.013514\n",
              "2014-04-23    0.010818\n",
              "2014-04-24    0.000000\n",
              "2014-04-25   -0.010955\n",
              "Freq: B, Name: Close, dtype: float64"
            ]
          },
          "metadata": {
            "tags": []
          },
          "execution_count": 17
        }
      ]
    },
    {
      "cell_type": "code",
      "metadata": {
        "id": "tHru2aniIh5y",
        "colab_type": "code",
        "outputId": "60f47f7f-c667-4684-988d-39b0f600cabf",
        "colab": {
          "base_uri": "https://localhost:8080/",
          "height": 700
        }
      },
      "source": [
        "fig, (ax1, ax2) = plt.subplots(2, 1, figsize=(16,12))\n",
        "\n",
        "ax1.plot(log_returns.index, log_returns.cumsum(), label=\"Share\")\n",
        "\n",
        "ax1.set_ylabel('Cumulative log returns')\n",
        "ax1.legend(loc='best')\n",
        "\n",
        "ax2.plot(log_returns.index, 100*(np.exp(log_returns.cumsum()) - 1), label=\"Share\")\n",
        "\n",
        "ax2.set_ylabel('Total relative returns (%)')\n",
        "ax2.legend(loc='best')\n",
        "\n",
        "plt.show()"
      ],
      "execution_count": 0,
      "outputs": [
        {
          "output_type": "display_data",
          "data": {
            "image/png": "[encoded data removed]",
            "text/plain": [
              "<Figure size 1152x864 with 2 Axes>"
            ]
          },
          "metadata": {
            "tags": [],
            "needs_background": "light"
          }
        }
      ]
    },
    {
      "cell_type": "code",
      "metadata": {
        "id": "Z118Ol5e3nLk",
        "colab_type": "code",
        "outputId": "ed30da9f-147c-41e6-a4c8-8960f7c2325b",
        "colab": {
          "base_uri": "https://localhost:8080/",
          "height": 34
        }
      },
      "source": [
        "#Create a new dataframe with only the 'Close column\n",
        "data = df.filter(['Close'])\n",
        "#Convert the dataframe to a numpy array\n",
        "dataset = data.values\n",
        "#Get the number of rows to train the model on\n",
        "training_data_len = int(np.ceil( len(dataset) * .8 ))\n",
        "\n",
        "training_data_len"
      ],
      "execution_count": 0,
      "outputs": [
        {
          "output_type": "execute_result",
          "data": {
            "text/plain": [
              "1180"
            ]
          },
          "metadata": {
            "tags": []
          },
          "execution_count": 19
        }
      ]
    },
    {
      "cell_type": "code",
      "metadata": {
        "id": "yhUluLcO5pvG",
        "colab_type": "code",
        "outputId": "a64b77fa-89ba-4ff2-e089-48f6c9f31787",
        "colab": {
          "base_uri": "https://localhost:8080/",
          "height": 136
        }
      },
      "source": [
        "#Scale the data\n",
        "from sklearn.preprocessing import MinMaxScaler\n",
        "\n",
        "scaler = MinMaxScaler(feature_range=(0,1))\n",
        "scaled_data = scaler.fit_transform(dataset)\n",
        "\n",
        "scaled_data"
      ],
      "execution_count": 0,
      "outputs": [
        {
          "output_type": "execute_result",
          "data": {
            "text/plain": [
              "array([[3.70599431e-04],\n",
              "       [5.53288016e-03],\n",
              "       [9.71566415e-03],\n",
              "       ...,\n",
              "       [6.22703410e-01],\n",
              "       [5.95965443e-01],\n",
              "       [6.04066278e-01]])"
            ]
          },
          "metadata": {
            "tags": []
          },
          "execution_count": 31
        }
      ]
    },
    {
      "cell_type": "code",
      "metadata": {
        "id": "EUkpIwvk53d0",
        "colab_type": "code",
        "colab": {}
      },
      "source": [
        "#Create the training data set\n",
        "#Create the scaled training data set\n",
        "train_data = scaled_data[0:int(training_data_len), :]\n",
        "#Split the data into x_train and y_train data sets\n",
        "x_train = []\n",
        "y_train = []\n",
        "\n",
        "for i in range(60, len(train_data)):\n",
        "    x_train.append(train_data[i-60:i, 0])\n",
        "    y_train.append(train_data[i, 0])"
      ],
      "execution_count": 0,
      "outputs": []
    },
    {
      "cell_type": "code",
      "metadata": {
        "id": "BiHncFkA56QU",
        "colab_type": "code",
        "colab": {}
      },
      "source": [
        "# Convert the x_train and y_train to numpy arrays \n",
        "x_train, y_train = np.array(x_train), np.array(y_train)"
      ],
      "execution_count": 0,
      "outputs": []
    },
    {
      "cell_type": "code",
      "metadata": {
        "id": "Dmovfgya5_Ml",
        "colab_type": "code",
        "outputId": "d9401fb8-aa3a-42e9-da95-3514e6cf7062",
        "colab": {
          "base_uri": "https://localhost:8080/",
          "height": 34
        }
      },
      "source": [
        "#Reshape the data\n",
        "x_train = np.reshape(x_train, (x_train.shape[0], x_train.shape[1], 1))\n",
        "x_train.shape"
      ],
      "execution_count": 0,
      "outputs": [
        {
          "output_type": "execute_result",
          "data": {
            "text/plain": [
              "(1120, 60, 1)"
            ]
          },
          "metadata": {
            "tags": []
          },
          "execution_count": 42
        }
      ]
    },
    {
      "cell_type": "code",
      "metadata": {
        "id": "93boZ8xc6BFM",
        "colab_type": "code",
        "colab": {}
      },
      "source": [
        "from keras.models import Sequential\n",
        "from keras.layers import Dense, LSTM\n",
        "\n",
        "#Build the LSTM model\n",
        "model = Sequential()\n",
        "model.add(LSTM(50, return_sequences=True, input_shape= (x_train.shape[1], 1)))\n",
        "model.add(LSTM(50, return_sequences= False))\n",
        "model.add(Dense(25))\n",
        "model.add(Dense(1))"
      ],
      "execution_count": 0,
      "outputs": []
    },
    {
      "cell_type": "code",
      "metadata": {
        "id": "jPNJcjWY6Dgk",
        "colab_type": "code",
        "colab": {}
      },
      "source": [
        "# Compile the model\n",
        "model.compile(optimizer='adam', loss='mean_squared_error')"
      ],
      "execution_count": 0,
      "outputs": []
    },
    {
      "cell_type": "code",
      "metadata": {
        "id": "9DDi6adE6M4N",
        "colab_type": "code",
        "outputId": "238d0751-6be0-403e-a25b-cc817d58e23f",
        "colab": {
          "base_uri": "https://localhost:8080/",
          "height": 68
        }
      },
      "source": [
        "#Train the model\n",
        "model.fit(x_train, y_train, batch_size=1, epochs=1)"
      ],
      "execution_count": 0,
      "outputs": [
        {
          "output_type": "stream",
          "text": [
            "Epoch 1/1\n",
            "1120/1120 [==============================] - 309s 276ms/step - loss: 0.0015\n"
          ],
          "name": "stdout"
        },
        {
          "output_type": "execute_result",
          "data": {
            "text/plain": [
              "<keras.callbacks.callbacks.History at 0x7f2961547080>"
            ]
          },
          "metadata": {
            "tags": []
          },
          "execution_count": 45
        }
      ]
    },
    {
      "cell_type": "code",
      "metadata": {
        "id": "VQn8e0tG6O77",
        "colab_type": "code",
        "colab": {}
      },
      "source": [
        "#Create the testing data set\n",
        "#Create a new array containing scaled values\n",
        "test_data = scaled_data[training_data_len - 60: , :]\n",
        "#Create the data sets x_test and y_test\n",
        "x_test = []\n",
        "y_test = dataset[training_data_len:, :]\n",
        "for i in range(60, len(test_data)):\n",
        "    x_test.append(test_data[i-60:i, 0])"
      ],
      "execution_count": 0,
      "outputs": []
    },
    {
      "cell_type": "code",
      "metadata": {
        "id": "yU7OJY0n6Yy2",
        "colab_type": "code",
        "colab": {}
      },
      "source": [
        "# Convert the data to a numpy array\n",
        "x_test = np.array(x_test)"
      ],
      "execution_count": 0,
      "outputs": []
    },
    {
      "cell_type": "code",
      "metadata": {
        "id": "LnUKXn7j6a-a",
        "colab_type": "code",
        "colab": {}
      },
      "source": [
        "# Reshape the data\n",
        "x_test = np.reshape(x_test, (x_test.shape[0], x_test.shape[1], 1 ))"
      ],
      "execution_count": 0,
      "outputs": []
    },
    {
      "cell_type": "code",
      "metadata": {
        "id": "1NsF29uG6dHr",
        "colab_type": "code",
        "colab": {}
      },
      "source": [
        "# Get the models predicted price values \n",
        "predictions = model.predict(x_test)\n",
        "predictions = scaler.inverse_transform(predictions)"
      ],
      "execution_count": 0,
      "outputs": []
    },
    {
      "cell_type": "code",
      "metadata": {
        "id": "r-piRpQU6fny",
        "colab_type": "code",
        "outputId": "902a60c9-388f-4871-f6ec-4a8239997232",
        "colab": {
          "base_uri": "https://localhost:8080/",
          "height": 34
        }
      },
      "source": [
        "# Get the root mean squared error (RMSE)\n",
        "rmse = np.sqrt(np.mean(((predictions - y_test) ** 2)))\n",
        "rmse"
      ],
      "execution_count": 0,
      "outputs": [
        {
          "output_type": "execute_result",
          "data": {
            "text/plain": [
              "46.08434295500164"
            ]
          },
          "metadata": {
            "tags": []
          },
          "execution_count": 54
        }
      ]
    },
    {
      "cell_type": "code",
      "metadata": {
        "id": "iIoXNWew6hqb",
        "colab_type": "code",
        "outputId": "05997854-1ac3-4c1d-f6c5-e4392e3d1557",
        "colab": {
          "base_uri": "https://localhost:8080/",
          "height": 623
        }
      },
      "source": [
        "# Plot the data\n",
        "train = data[:training_data_len]\n",
        "valid = data[training_data_len:]\n",
        "valid['Predictions'] = predictions\n",
        "# Visualize the data\n",
        "plt.figure(figsize=(16,8))\n",
        "plt.title('Model')\n",
        "plt.xlabel('Date', fontsize=18)\n",
        "plt.ylabel('Close Price (INR)', fontsize=18)\n",
        "plt.plot(train['Close'])\n",
        "plt.plot(valid[['Close', 'Predictions']])\n",
        "plt.legend(['Train', 'Val', 'Predictions'], loc='lower right')\n",
        "plt.show()"
      ],
      "execution_count": 0,
      "outputs": [
        {
          "output_type": "stream",
          "text": [
            "/usr/local/lib/python3.6/dist-packages/ipykernel_launcher.py:3: SettingWithCopyWarning: \n",
            "A value is trying to be set on a copy of a slice from a DataFrame.\n",
            "Try using .loc[row_indexer,col_indexer] = value instead\n",
            "\n",
            "See the caveats in the documentation: https://pandas.pydata.org/pandas-docs/stable/user_guide/indexing.html#returning-a-view-versus-a-copy\n",
            "  This is separate from the ipykernel package so we can avoid doing imports until\n"
          ],
          "name": "stderr"
        },
        {
          "output_type": "display_data",
          "data": {
            "image/png": "[encoded data removed]",
            "text/plain": [
              "<Figure size 1152x576 with 1 Axes>"
            ]
          },
          "metadata": {
            "tags": [],
            "needs_background": "light"
          }
        }
      ]
    },
    {
      "cell_type": "code",
      "metadata": {
        "id": "DBOzSw4j6oBt",
        "colab_type": "code",
        "outputId": "adf93840-16cd-4307-ef46-9b2862182d8a",
        "colab": {
          "base_uri": "https://localhost:8080/",
          "height": 450
        }
      },
      "source": [
        "#Show the valid and predicted prices\n",
        "valid"
      ],
      "execution_count": 0,
      "outputs": [
        {
          "output_type": "execute_result",
          "data": {
            "text/html": [
              "<div>\n",
              "<style scoped>\n",
              "    .dataframe tbody tr th:only-of-type {\n",
              "        vertical-align: middle;\n",
              "    }\n",
              "\n",
              "    .dataframe tbody tr th {\n",
              "        vertical-align: top;\n",
              "    }\n",
              "\n",
              "    .dataframe thead th {\n",
              "        text-align: right;\n",
              "    }\n",
              "</style>\n",
              "<table border=\"1\" class=\"dataframe\">\n",
              "  <thead>\n",
              "    <tr style=\"text-align: right;\">\n",
              "      <th></th>\n",
              "      <th>Close</th>\n",
              "      <th>Predictions</th>\n",
              "    </tr>\n",
              "    <tr>\n",
              "      <th>Date</th>\n",
              "      <th></th>\n",
              "      <th></th>\n",
              "    </tr>\n",
              "  </thead>\n",
              "  <tbody>\n",
              "    <tr>\n",
              "      <th>2019-02-01</th>\n",
              "      <td>1045.819946</td>\n",
              "      <td>1066.351318</td>\n",
              "    </tr>\n",
              "    <tr>\n",
              "      <th>2019-02-04</th>\n",
              "      <td>1053.500000</td>\n",
              "      <td>1064.425171</td>\n",
              "    </tr>\n",
              "    <tr>\n",
              "      <th>2019-02-05</th>\n",
              "      <td>1057.449951</td>\n",
              "      <td>1063.633911</td>\n",
              "    </tr>\n",
              "    <tr>\n",
              "      <th>2019-02-06</th>\n",
              "      <td>1061.500000</td>\n",
              "      <td>1063.808838</td>\n",
              "    </tr>\n",
              "    <tr>\n",
              "      <th>2019-02-07</th>\n",
              "      <td>1058.530029</td>\n",
              "      <td>1064.798340</td>\n",
              "    </tr>\n",
              "    <tr>\n",
              "      <th>...</th>\n",
              "      <td>...</td>\n",
              "      <td>...</td>\n",
              "    </tr>\n",
              "    <tr>\n",
              "      <th>2020-04-16</th>\n",
              "      <td>881.049988</td>\n",
              "      <td>897.215698</td>\n",
              "    </tr>\n",
              "    <tr>\n",
              "      <th>2020-04-17</th>\n",
              "      <td>910.400024</td>\n",
              "      <td>898.592529</td>\n",
              "    </tr>\n",
              "    <tr>\n",
              "      <th>2020-04-20</th>\n",
              "      <td>946.000000</td>\n",
              "      <td>901.423584</td>\n",
              "    </tr>\n",
              "    <tr>\n",
              "      <th>2020-04-21</th>\n",
              "      <td>920.750000</td>\n",
              "      <td>906.964111</td>\n",
              "    </tr>\n",
              "    <tr>\n",
              "      <th>2020-04-22</th>\n",
              "      <td>928.400024</td>\n",
              "      <td>912.443726</td>\n",
              "    </tr>\n",
              "  </tbody>\n",
              "</table>\n",
              "<p>294 rows × 2 columns</p>\n",
              "</div>"
            ],
            "text/plain": [
              "                  Close  Predictions\n",
              "Date                                \n",
              "2019-02-01  1045.819946  1066.351318\n",
              "2019-02-04  1053.500000  1064.425171\n",
              "2019-02-05  1057.449951  1063.633911\n",
              "2019-02-06  1061.500000  1063.808838\n",
              "2019-02-07  1058.530029  1064.798340\n",
              "...                 ...          ...\n",
              "2020-04-16   881.049988   897.215698\n",
              "2020-04-17   910.400024   898.592529\n",
              "2020-04-20   946.000000   901.423584\n",
              "2020-04-21   920.750000   906.964111\n",
              "2020-04-22   928.400024   912.443726\n",
              "\n",
              "[294 rows x 2 columns]"
            ]
          },
          "metadata": {
            "tags": []
          },
          "execution_count": 56
        }
      ]
    }
  ]
}